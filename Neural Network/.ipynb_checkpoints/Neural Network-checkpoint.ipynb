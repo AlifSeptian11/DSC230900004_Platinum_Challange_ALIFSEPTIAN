{
 "cells": [
  {
   "cell_type": "code",
   "execution_count": 1,
   "id": "2a285e2f-4091-43d0-ac11-efc7ea967de7",
   "metadata": {},
   "outputs": [],
   "source": [
    "import pandas as pd\n",
    "import re\n",
    "import pickle\n",
    "import numpy as np\n",
    "import matplotlib.pyplot as plt\n",
    "import seaborn as sns\n",
    "import sqlite3 as sq\n",
    "\n",
    "from sklearn.feature_extraction.text import TfidfVectorizer\n",
    "from sklearn.model_selection import train_test_split, KFold\n",
    "from sklearn.neural_network import MLPClassifier\n",
    "from sklearn.metrics import classification_report, accuracy_score, recall_score, precision_score, f1_score, confusion_matrix\n",
    "from statistics import mean, stdev\n",
    "from sklearn import model_selection"
   ]
  },
  {
   "cell_type": "markdown",
   "id": "5af37542-3ca2-421f-8892-f7da730adc21",
   "metadata": {},
   "source": [
    "# Prepare Dataset"
   ]
  },
  {
   "cell_type": "code",
   "execution_count": 2,
   "id": "82c684f3-6e38-42cd-a857-0d376d289446",
   "metadata": {},
   "outputs": [
    {
     "data": {
      "text/html": [
       "<div>\n",
       "<style scoped>\n",
       "    .dataframe tbody tr th:only-of-type {\n",
       "        vertical-align: middle;\n",
       "    }\n",
       "\n",
       "    .dataframe tbody tr th {\n",
       "        vertical-align: top;\n",
       "    }\n",
       "\n",
       "    .dataframe thead th {\n",
       "        text-align: right;\n",
       "    }\n",
       "</style>\n",
       "<table border=\"1\" class=\"dataframe\">\n",
       "  <thead>\n",
       "    <tr style=\"text-align: right;\">\n",
       "      <th></th>\n",
       "      <th>Tweet</th>\n",
       "      <th>Label</th>\n",
       "    </tr>\n",
       "  </thead>\n",
       "  <tbody>\n",
       "    <tr>\n",
       "      <th>0</th>\n",
       "      <td>warung ini dimiliki oleh pengusaha pabrik tahu...</td>\n",
       "      <td>positive</td>\n",
       "    </tr>\n",
       "    <tr>\n",
       "      <th>1</th>\n",
       "      <td>mohon ulama lurus dan k212 mmbri hujjah partai...</td>\n",
       "      <td>neutral</td>\n",
       "    </tr>\n",
       "    <tr>\n",
       "      <th>2</th>\n",
       "      <td>lokasi strategis di jalan sumatra bandung temp...</td>\n",
       "      <td>positive</td>\n",
       "    </tr>\n",
       "    <tr>\n",
       "      <th>3</th>\n",
       "      <td>betapa bahagia nya diri ini saat unboxing pake...</td>\n",
       "      <td>positive</td>\n",
       "    </tr>\n",
       "    <tr>\n",
       "      <th>4</th>\n",
       "      <td>aduh jadi mahasiswa jangan sombong dong kasih ...</td>\n",
       "      <td>negative</td>\n",
       "    </tr>\n",
       "    <tr>\n",
       "      <th>5</th>\n",
       "      <td>makanan beragam harga makanan di food stall ak...</td>\n",
       "      <td>positive</td>\n",
       "    </tr>\n",
       "    <tr>\n",
       "      <th>6</th>\n",
       "      <td>pakai kartu kredit baca tidak untung malah rug...</td>\n",
       "      <td>negative</td>\n",
       "    </tr>\n",
       "    <tr>\n",
       "      <th>7</th>\n",
       "      <td>tempat unik bagus buat foto makanan enak pegaw...</td>\n",
       "      <td>positive</td>\n",
       "    </tr>\n",
       "    <tr>\n",
       "      <th>8</th>\n",
       "      <td>saya bersama keluarga baru saja menikmati peng...</td>\n",
       "      <td>positive</td>\n",
       "    </tr>\n",
       "    <tr>\n",
       "      <th>9</th>\n",
       "      <td>bersyukur</td>\n",
       "      <td>positive</td>\n",
       "    </tr>\n",
       "  </tbody>\n",
       "</table>\n",
       "</div>"
      ],
      "text/plain": [
       "                                               Tweet     Label\n",
       "0  warung ini dimiliki oleh pengusaha pabrik tahu...  positive\n",
       "1  mohon ulama lurus dan k212 mmbri hujjah partai...   neutral\n",
       "2  lokasi strategis di jalan sumatra bandung temp...  positive\n",
       "3  betapa bahagia nya diri ini saat unboxing pake...  positive\n",
       "4  aduh jadi mahasiswa jangan sombong dong kasih ...  negative\n",
       "5  makanan beragam harga makanan di food stall ak...  positive\n",
       "6  pakai kartu kredit baca tidak untung malah rug...  negative\n",
       "7  tempat unik bagus buat foto makanan enak pegaw...  positive\n",
       "8  saya bersama keluarga baru saja menikmati peng...  positive\n",
       "9                                          bersyukur  positive"
      ]
     },
     "execution_count": 2,
     "metadata": {},
     "output_type": "execute_result"
    }
   ],
   "source": [
    "# import dataset\n",
    "conn = sq.connect('C:/Users/Reza Fakhrurrozi/Documents/GitHub/PlatinumChallange-Group2-/database_pl.db', check_same_thread = False)\n",
    "q_data = 'SELECT * FROM data'\n",
    "df = pd.read_sql_query(q_data, conn)\n",
    "df.head(10)"
   ]
  },
  {
   "cell_type": "code",
   "execution_count": 3,
   "id": "04c30d20-1f11-4ea5-8336-80ff6ad3abf2",
   "metadata": {},
   "outputs": [
    {
     "data": {
      "text/plain": [
       "Label\n",
       "positive    6383\n",
       "negative    3412\n",
       "neutral     1138\n",
       "Name: count, dtype: int64"
      ]
     },
     "execution_count": 3,
     "metadata": {},
     "output_type": "execute_result"
    }
   ],
   "source": [
    "df['Label'].value_counts()"
   ]
  },
  {
   "cell_type": "markdown",
   "id": "0ffc7e92-b92f-46ee-b0da-4ebe2c06b63e",
   "metadata": {},
   "source": [
    "# Text Normalization"
   ]
  },
  {
   "cell_type": "code",
   "execution_count": 4,
   "id": "7c937dd4-9920-4658-b577-c6398c5f8157",
   "metadata": {},
   "outputs": [],
   "source": [
    "def cleansing(sent):\n",
    "    string = sent.lower()\n",
    "    string = re.sub(r'[^a-zA-Z0-9]', ' ', string)\n",
    "    return string"
   ]
  },
  {
   "cell_type": "code",
   "execution_count": 5,
   "id": "1fa16a26-46e5-4f3e-bcad-0fb888ec516c",
   "metadata": {},
   "outputs": [
    {
     "data": {
      "text/html": [
       "<div>\n",
       "<style scoped>\n",
       "    .dataframe tbody tr th:only-of-type {\n",
       "        vertical-align: middle;\n",
       "    }\n",
       "\n",
       "    .dataframe tbody tr th {\n",
       "        vertical-align: top;\n",
       "    }\n",
       "\n",
       "    .dataframe thead th {\n",
       "        text-align: right;\n",
       "    }\n",
       "</style>\n",
       "<table border=\"1\" class=\"dataframe\">\n",
       "  <thead>\n",
       "    <tr style=\"text-align: right;\">\n",
       "      <th></th>\n",
       "      <th>Tweet</th>\n",
       "      <th>Label</th>\n",
       "      <th>Tweet_Clean</th>\n",
       "    </tr>\n",
       "  </thead>\n",
       "  <tbody>\n",
       "    <tr>\n",
       "      <th>0</th>\n",
       "      <td>warung ini dimiliki oleh pengusaha pabrik tahu...</td>\n",
       "      <td>positive</td>\n",
       "      <td>warung ini dimiliki oleh pengusaha pabrik tahu...</td>\n",
       "    </tr>\n",
       "    <tr>\n",
       "      <th>1</th>\n",
       "      <td>mohon ulama lurus dan k212 mmbri hujjah partai...</td>\n",
       "      <td>neutral</td>\n",
       "      <td>mohon ulama lurus dan k212 mmbri hujjah partai...</td>\n",
       "    </tr>\n",
       "    <tr>\n",
       "      <th>2</th>\n",
       "      <td>lokasi strategis di jalan sumatra bandung temp...</td>\n",
       "      <td>positive</td>\n",
       "      <td>lokasi strategis di jalan sumatra bandung temp...</td>\n",
       "    </tr>\n",
       "    <tr>\n",
       "      <th>3</th>\n",
       "      <td>betapa bahagia nya diri ini saat unboxing pake...</td>\n",
       "      <td>positive</td>\n",
       "      <td>betapa bahagia nya diri ini saat unboxing pake...</td>\n",
       "    </tr>\n",
       "    <tr>\n",
       "      <th>4</th>\n",
       "      <td>aduh jadi mahasiswa jangan sombong dong kasih ...</td>\n",
       "      <td>negative</td>\n",
       "      <td>aduh jadi mahasiswa jangan sombong dong kasih ...</td>\n",
       "    </tr>\n",
       "  </tbody>\n",
       "</table>\n",
       "</div>"
      ],
      "text/plain": [
       "                                               Tweet     Label  \\\n",
       "0  warung ini dimiliki oleh pengusaha pabrik tahu...  positive   \n",
       "1  mohon ulama lurus dan k212 mmbri hujjah partai...   neutral   \n",
       "2  lokasi strategis di jalan sumatra bandung temp...  positive   \n",
       "3  betapa bahagia nya diri ini saat unboxing pake...  positive   \n",
       "4  aduh jadi mahasiswa jangan sombong dong kasih ...  negative   \n",
       "\n",
       "                                         Tweet_Clean  \n",
       "0  warung ini dimiliki oleh pengusaha pabrik tahu...  \n",
       "1  mohon ulama lurus dan k212 mmbri hujjah partai...  \n",
       "2  lokasi strategis di jalan sumatra bandung temp...  \n",
       "3  betapa bahagia nya diri ini saat unboxing pake...  \n",
       "4  aduh jadi mahasiswa jangan sombong dong kasih ...  "
      ]
     },
     "execution_count": 5,
     "metadata": {},
     "output_type": "execute_result"
    }
   ],
   "source": [
    "df['Tweet_Clean'] = df.Tweet.apply(cleansing)\n",
    "df.head()"
   ]
  },
  {
   "cell_type": "code",
   "execution_count": 6,
   "id": "d3c31585-c45e-456c-b4df-0ae44b6ef926",
   "metadata": {},
   "outputs": [
    {
     "name": "stdout",
     "output_type": "stream",
     "text": [
      "Label\n",
      "positive    6383\n",
      "negative    3412\n",
      "neutral     3412\n",
      "Name: count, dtype: int64\n"
     ]
    }
   ],
   "source": [
    "# memfilter data berdasarkan label\n",
    "df_positive = df[df['Label'] == 'positive']\n",
    "df_negative = df[df['Label'] == 'negative']\n",
    "df_neutral = df[df['Label'] == 'neutral']\n",
    "\n",
    "# menyeimbangkan label netral dengan label negatif\n",
    "df_neutral_over = df_neutral.sample(df_negative.shape[0], replace=True)\n",
    "\n",
    "# menggabungkan semua data\n",
    "df = pd.concat([df_positive, df_negative, df_neutral_over])\n",
    "\n",
    "# mengecek kembali\n",
    "label_counts = df['Label'].value_counts()\n",
    "print(label_counts)"
   ]
  },
  {
   "cell_type": "code",
   "execution_count": 7,
   "id": "50d7e934-7a6b-4a24-ba15-8713add68be2",
   "metadata": {},
   "outputs": [
    {
     "name": "stdout",
     "output_type": "stream",
     "text": [
      "Positive: 6383, Negative: 3412, Neutral: 3412\n",
      "Total data: 13207\n",
      "Total labels: 13207\n"
     ]
    }
   ],
   "source": [
    "# Group data tweet\n",
    "positive_tweet = df.loc[df['Label']=='positive'].Tweet.tolist()\n",
    "negative_tweet = df.loc[df['Label']=='negative'].Tweet.tolist()\n",
    "neutral_tweet = df.loc[df['Label']=='neutral'].Tweet.tolist()\n",
    "\n",
    "# Group df label\n",
    "positive_label = df.loc[df['Label']=='positive'].Label.tolist()\n",
    "negative_label = df.loc[df['Label']=='negative'].Label.tolist()\n",
    "neutral_label = df.loc[df['Label']=='neutral'].Label.tolist()\n",
    "\n",
    "total_data = positive_tweet + negative_tweet + neutral_tweet\n",
    "labels = positive_label + negative_label + neutral_label\n",
    "\n",
    "print(\"Positive: %s, Negative: %s, Neutral: %s\" % (len(positive_tweet), len(neutral_tweet), len(negative_tweet)))\n",
    "print(\"Total data: %s\" % len(total_data))\n",
    "print(\"Total labels: %s\" % len(labels))"
   ]
  },
  {
   "cell_type": "markdown",
   "id": "83df5e0b-7534-4ef4-b8b5-1526283e5e4e",
   "metadata": {},
   "source": [
    "# TF-IDF"
   ]
  },
  {
   "cell_type": "code",
   "execution_count": 9,
   "id": "05defb36-6084-4380-9174-a18272c81c41",
   "metadata": {},
   "outputs": [],
   "source": [
    "# menyimpan teks ke dalam variabel\n",
    "data_preprocessed = df.Tweet_Clean.tolist()"
   ]
  },
  {
   "cell_type": "code",
   "execution_count": 10,
   "id": "f9935f3a-8b6a-4d84-9660-5c353e1f2e49",
   "metadata": {},
   "outputs": [
    {
     "name": "stdout",
     "output_type": "stream",
     "text": [
      "Feature Extraction selesai\n"
     ]
    }
   ],
   "source": [
    "# Proses Feature Extraction\n",
    "tfidf_vect = TfidfVectorizer()\n",
    "\n",
    "X = tfidf_vect.fit_transform(data_preprocessed)\n",
    "print(\"Feature Extraction selesai\")"
   ]
  },
  {
   "cell_type": "code",
   "execution_count": 11,
   "id": "236f63a8-bb8a-4426-afc6-925f8d9e8894",
   "metadata": {},
   "outputs": [
    {
     "name": "stdout",
     "output_type": "stream",
     "text": [
      "tfidf_vect.pickle has created!\n"
     ]
    }
   ],
   "source": [
    "with open('tfidf_vect.p','wb') as handle:\n",
    "    pickle.dump(tfidf_vect, handle, protocol=pickle.HIGHEST_PROTOCOL)\n",
    "    print(\"tfidf_vect.pickle has created!\")"
   ]
  },
  {
   "cell_type": "code",
   "execution_count": 12,
   "id": "5c059596-a23f-42b1-9e32-244cf8007568",
   "metadata": {},
   "outputs": [
    {
     "name": "stdout",
     "output_type": "stream",
     "text": [
      "        00  000  001   01  010  0111  011770465655617   02  021  022  ...  \\\n",
      "0      0.0  0.0  0.0  0.0  0.0   0.0              0.0  0.0  0.0  0.0  ...   \n",
      "1      0.0  0.0  0.0  0.0  0.0   0.0              0.0  0.0  0.0  0.0  ...   \n",
      "2      0.0  0.0  0.0  0.0  0.0   0.0              0.0  0.0  0.0  0.0  ...   \n",
      "3      0.0  0.0  0.0  0.0  0.0   0.0              0.0  0.0  0.0  0.0  ...   \n",
      "4      0.0  0.0  0.0  0.0  0.0   0.0              0.0  0.0  0.0  0.0  ...   \n",
      "...    ...  ...  ...  ...  ...   ...              ...  ...  ...  ...  ...   \n",
      "13202  0.0  0.0  0.0  0.0  0.0   0.0              0.0  0.0  0.0  0.0  ...   \n",
      "13203  0.0  0.0  0.0  0.0  0.0   0.0              0.0  0.0  0.0  0.0  ...   \n",
      "13204  0.0  0.0  0.0  0.0  0.0   0.0              0.0  0.0  0.0  0.0  ...   \n",
      "13205  0.0  0.0  0.0  0.0  0.0   0.0              0.0  0.0  0.0  0.0  ...   \n",
      "13206  0.0  0.0  0.0  0.0  0.0   0.0              0.0  0.0  0.0  0.0  ...   \n",
      "\n",
      "       zonpoliticon  zoo  zoom  zubir  zulfikri  zulkarnain  zup  zupa  zuppa  \\\n",
      "0               0.0  0.0   0.0    0.0       0.0         0.0  0.0   0.0    0.0   \n",
      "1               0.0  0.0   0.0    0.0       0.0         0.0  0.0   0.0    0.0   \n",
      "2               0.0  0.0   0.0    0.0       0.0         0.0  0.0   0.0    0.0   \n",
      "3               0.0  0.0   0.0    0.0       0.0         0.0  0.0   0.0    0.0   \n",
      "4               0.0  0.0   0.0    0.0       0.0         0.0  0.0   0.0    0.0   \n",
      "...             ...  ...   ...    ...       ...         ...  ...   ...    ...   \n",
      "13202           0.0  0.0   0.0    0.0       0.0         0.0  0.0   0.0    0.0   \n",
      "13203           0.0  0.0   0.0    0.0       0.0         0.0  0.0   0.0    0.0   \n",
      "13204           0.0  0.0   0.0    0.0       0.0         0.0  0.0   0.0    0.0   \n",
      "13205           0.0  0.0   0.0    0.0       0.0         0.0  0.0   0.0    0.0   \n",
      "13206           0.0  0.0   0.0    0.0       0.0         0.0  0.0   0.0    0.0   \n",
      "\n",
      "       zwitsal  \n",
      "0          0.0  \n",
      "1          0.0  \n",
      "2          0.0  \n",
      "3          0.0  \n",
      "4          0.0  \n",
      "...        ...  \n",
      "13202      0.0  \n",
      "13203      0.0  \n",
      "13204      0.0  \n",
      "13205      0.0  \n",
      "13206      0.0  \n",
      "\n",
      "[13207 rows x 16125 columns]\n"
     ]
    }
   ],
   "source": [
    "tfidf_array = X.toarray()\n",
    "df_array = pd.DataFrame(data=tfidf_array,columns = tfidf_vect.get_feature_names_out())\n",
    "print(df_array)"
   ]
  },
  {
   "cell_type": "markdown",
   "id": "2cfd770d-23fc-4c0b-9c1c-3e1631eff4ce",
   "metadata": {},
   "source": [
    "## Prepare Train and Test Dataset (Split Dataset)"
   ]
  },
  {
   "cell_type": "code",
   "execution_count": 13,
   "id": "8543ac57-5877-4386-b68e-d0ffa52ec681",
   "metadata": {},
   "outputs": [],
   "source": [
    "classes = df.Label\n",
    "\n",
    "# split dataset menjadi 80% untuk train dan 20% untuk test\n",
    "X_train, X_test, y_train, y_test = train_test_split(X, classes, test_size=0.2)"
   ]
  },
  {
   "cell_type": "code",
   "execution_count": 14,
   "id": "b51558b6-0d20-4dad-a6a5-2b767059c1c1",
   "metadata": {},
   "outputs": [
    {
     "name": "stdout",
     "output_type": "stream",
     "text": [
      "(10565, 16125)\n",
      "(2642, 16125)\n",
      "(10565,)\n",
      "(2642,)\n"
     ]
    }
   ],
   "source": [
    "print(X_train.shape)\n",
    "print(X_test.shape)\n",
    "print(y_train.shape)\n",
    "print(y_test.shape)"
   ]
  },
  {
   "cell_type": "markdown",
   "id": "a672c654-a825-4395-97ca-ef965dc51076",
   "metadata": {},
   "source": [
    "# Model Training"
   ]
  },
  {
   "cell_type": "markdown",
   "id": "3c5389d6-4750-44f7-8fbe-38653d5142bb",
   "metadata": {},
   "source": [
    "## Neural Network"
   ]
  },
  {
   "cell_type": "code",
   "execution_count": 15,
   "id": "aed5f273-78c6-4c6a-81a0-410c6485e84e",
   "metadata": {},
   "outputs": [
    {
     "name": "stdout",
     "output_type": "stream",
     "text": [
      "Training selesai\n"
     ]
    }
   ],
   "source": [
    "# model training menggunakan neural network\n",
    "model = MLPClassifier()\n",
    "model.fit(X_train, y_train)\n",
    "\n",
    "print(\"Training selesai\")"
   ]
  },
  {
   "cell_type": "code",
   "execution_count": 16,
   "id": "747a63e5-9dab-4f65-99b3-0efd84fd6ed3",
   "metadata": {},
   "outputs": [],
   "source": [
    "pickle.dump(model, open(\"model_neuralnetwork.p\", \"wb\"))"
   ]
  },
  {
   "cell_type": "markdown",
   "id": "dd7736eb-0cc6-4417-ba31-250a14809147",
   "metadata": {},
   "source": [
    "# Model Evaluation"
   ]
  },
  {
   "cell_type": "code",
   "execution_count": 17,
   "id": "8d261f50-3b77-41e1-aa68-acef0c705bdf",
   "metadata": {},
   "outputs": [
    {
     "name": "stdout",
     "output_type": "stream",
     "text": [
      "Testing selesai\n",
      "              precision    recall  f1-score   support\n",
      "\n",
      "    negative       0.81      0.78      0.79       662\n",
      "     neutral       0.95      0.97      0.96       672\n",
      "    positive       0.89      0.90      0.90      1308\n",
      "\n",
      "    accuracy                           0.89      2642\n",
      "   macro avg       0.88      0.88      0.88      2642\n",
      "weighted avg       0.89      0.89      0.89      2642\n",
      "\n"
     ]
    }
   ],
   "source": [
    "test = model.predict(X_test)\n",
    "\n",
    "print(\"Testing selesai\")\n",
    "print(classification_report(y_test, test))"
   ]
  },
  {
   "cell_type": "code",
   "execution_count": 18,
   "id": "5d600e33-15ab-431d-81bc-4deb45ea248a",
   "metadata": {},
   "outputs": [
    {
     "data": {
      "image/png": "[encoded data removed]",
      "text/plain": [
       "<Figure size 500x400 with 2 Axes>"
      ]
     },
     "metadata": {},
     "output_type": "display_data"
    }
   ],
   "source": [
    "cm = confusion_matrix(y_test, test, labels=[\"negative\", \"neutral\", \"positive\"])\n",
    "\n",
    "cm_df = pd.DataFrame(cm,\n",
    "                     index =[\"negative\", \"neutral\", \"positive\"],\n",
    "                     columns =[\"negative\", \"neutral\", \"positive\"])\n",
    "\n",
    "#Plotting the confusion matrix\n",
    "plt.figure(figsize=(5,4))\n",
    "sns.heatmap(cm_df, annot=True, fmt='d')\n",
    "plt.title('Confusion Matrix')\n",
    "plt.ylabel('Actual Values')\n",
    "plt.xlabel('Predicted Values')\n",
    "plt.show()"
   ]
  },
  {
   "cell_type": "markdown",
   "id": "8a655428-d76e-4aa8-9f09-6cbb156935d0",
   "metadata": {},
   "source": [
    "## Cross Validation"
   ]
  },
  {
   "cell_type": "code",
   "execution_count": 18,
   "id": "79689e30-05fe-45c8-99b3-6979c7a84722",
   "metadata": {},
   "outputs": [],
   "source": [
    "X = df[[\"Tweet_Clean\"]] # input feature\n",
    "Y = df[\"Label\"] # output feature\n",
    "\n",
    "# split dataset to 80% train and 20% test\n",
    "X_train, X_test, y_train, y_test = train_test_split(X, Y, test_size = 0.2)"
   ]
  },
  {
   "cell_type": "code",
   "execution_count": 19,
   "id": "09b8b7d5-109b-4784-946e-fa30e9047d2b",
   "metadata": {},
   "outputs": [],
   "source": [
    "# cross validation dengan split = 5\n",
    "kf = KFold(n_splits=5, random_state=42, shuffle=True)\n",
    "\n",
    "accuracies=[]\n",
    "\n",
    "X_train = X_train.reset_index().Tweet_Clean\n",
    "y_train = y_train.reset_index().Label"
   ]
  },
  {
   "cell_type": "code",
   "execution_count": 20,
   "id": "769b4517-2970-4668-bd8e-6b844ff41c93",
   "metadata": {},
   "outputs": [],
   "source": [
    "def cross_validation(k, X_train, model, name):\n",
    "  accuracies = []\n",
    "  precisions = []\n",
    "  recalls = []\n",
    "  f1_scores = []\n",
    "\n",
    "  # iterate sebanyak k cross validation\n",
    "  for iteration, data in enumerate(kf.split(X_train), start=1):\n",
    "      # get data and target train\n",
    "      data_train = X_train[data[0]]\n",
    "      tfidf_vect = TfidfVectorizer()\n",
    "      data_train = tfidf_vect.fit_transform(data_train)\n",
    "\n",
    "      target_train = y_train[data[0]]\n",
    "\n",
    "      # get data and target test\n",
    "      data_test =  X_train[data[1]]\n",
    "      data_test = tfidf_vect.transform(data_test)\n",
    "\n",
    "      target_test =  y_train[data[1]]\n",
    "\n",
    "      # model training menggunakan data train\n",
    "      classifier = model\n",
    "      classifier.fit(data_train, target_train)\n",
    "\n",
    "      # prediksi data test\n",
    "      preds = classifier.predict(data_test)\n",
    "\n",
    "      # menghitung accuracy\n",
    "      accuracy = accuracy_score(target_test, preds)\n",
    "      precision = precision_score(target_test, preds, average='weighted')\n",
    "      recall = recall_score(target_test, preds, average='weighted')\n",
    "      f1 = f1_score(target_test, preds, average='weighted')\n",
    "\n",
    "      # print(\"Training ke-\", iteration)\n",
    "      # print(classification_report(target_test, preds))\n",
    "      # print(\"=================================================================\")\n",
    "\n",
    "      accuracies.append(accuracy)\n",
    "      precisions.append(precision)\n",
    "      recalls.append(recall)\n",
    "      f1_scores.append(f1)\n",
    "\n",
    "  result = {'algorithm': name,\n",
    "                'accuracy_per_iter': accuracies, 'accuracy_mean': mean(accuracies), 'accuracy_std': stdev(accuracies),\n",
    "                'recall_mean': mean(recalls),'precision_mean': mean(precisions), 'f1_mean': mean(f1_scores)}\n",
    "  return result"
   ]
  },
  {
   "cell_type": "code",
   "execution_count": 21,
   "id": "d6edbb78-aaae-4c3f-81d1-e0b2ccc7eca9",
   "metadata": {},
   "outputs": [
    {
     "data": {
      "text/plain": [
       "{'algorithm': 'Neural Network',\n",
       " 'accuracy_per_iter': [0.881211547562707,\n",
       "  0.8873639375295788,\n",
       "  0.8864174159962139,\n",
       "  0.8717463322290582,\n",
       "  0.8783719829626124],\n",
       " 'accuracy_mean': 0.8810222432560341,\n",
       " 'accuracy_std': 0.006372346825920469,\n",
       " 'recall_mean': 0.8810222432560341,\n",
       " 'precision_mean': 0.8795627617842416,\n",
       " 'f1_mean': 0.8798224337563073}"
      ]
     },
     "execution_count": 21,
     "metadata": {},
     "output_type": "execute_result"
    }
   ],
   "source": [
    "result = cross_validation(5, X_train, MLPClassifier(), 'Neural Network')\n",
    "result"
   ]
  },
  {
   "cell_type": "markdown",
   "id": "8aac2e8d-ead7-457d-bba9-8f75aca8273a",
   "metadata": {},
   "source": [
    "## Prediksi Data Baru"
   ]
  },
  {
   "cell_type": "code",
   "execution_count": null,
   "id": "9b23c52d-a57d-44f6-91c2-b66480e3803f",
   "metadata": {},
   "outputs": [],
   "source": [
    "input_text = \"aduh jadi mahasiswa jangan sombong dong\"\n",
    "\n",
    "# normalize text\n",
    "text = tfidf_vect.transform([cleansing(input_text)])\n",
    "\n",
    "# predict data baru menggunakan model yang telah dibuat\n",
    "result = model.predict(text)[0]\n",
    "\n",
    "print(\"Sentiment:\", result)"
   ]
  }
 ],
 "metadata": {
  "kernelspec": {
   "display_name": "Python 3 (ipykernel)",
   "language": "python",
   "name": "python3"
  },
  "language_info": {
   "codemirror_mode": {
    "name": "ipython",
    "version": 3
   },
   "file_extension": ".py",
   "mimetype": "text/x-python",
   "name": "python",
   "nbconvert_exporter": "python",
   "pygments_lexer": "ipython3",
   "version": "3.11.5"
  }
 },
 "nbformat": 4,
 "nbformat_minor": 5
}
